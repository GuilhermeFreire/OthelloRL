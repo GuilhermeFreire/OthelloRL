{
 "cells": [
  {
   "cell_type": "code",
   "execution_count": 7,
   "metadata": {},
   "outputs": [],
   "source": [
    "import numpy as np\n",
    "import tensorflow as tf\n",
    "from othello import Board\n",
    "\n",
    "boardDim = 8*8\n",
    "dataType = tf.float32\n",
    "hLayersDim = [128, 256, 128]\n",
    "\n",
    "x = tf.placeholder(tf.int8, [None, boardDim])\n",
    "\n",
    "layers = []\n",
    "biases = []\n",
    "activations = []\n",
    "\n",
    "for i, dim in enumerate(hLayersDim):\n",
    "    if i == 0:\n",
    "        layers.append(tf.Variable(\"W\"+str(i), dataType, [boardDim, dim]))\n",
    "    elif i == len(hLayersDim) - 1:\n",
    "        layers.append(tf.Variable(\"W\"+str(i), dataType, [dim, boardDim]))\n",
    "    else:\n",
    "        layers.append(tf.Variable(\"W\"+str(i), dataType, [hLayersDim[i-1], dim]))\n",
    "    biases.append(tf.Variable(\"b\"+str(i), dataType, [dim]))\n",
    "    \n",
    "#for i, dim in enumerate(hLayersDim):\n",
    "#    activations.append(tf.nn.relu(bias, name=scope.name))\n",
    "    "
   ]
  }
 ],
 "metadata": {
  "kernelspec": {
   "display_name": "Python 3",
   "language": "python",
   "name": "python3"
  },
  "language_info": {
   "codemirror_mode": {
    "name": "ipython",
    "version": 3
   },
   "file_extension": ".py",
   "mimetype": "text/x-python",
   "name": "python",
   "nbconvert_exporter": "python",
   "pygments_lexer": "ipython3",
   "version": "3.5.3"
  }
 },
 "nbformat": 4,
 "nbformat_minor": 2
}
